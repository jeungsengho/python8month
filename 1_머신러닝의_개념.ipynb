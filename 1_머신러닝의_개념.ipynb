{
  "nbformat": 4,
  "nbformat_minor": 0,
  "metadata": {
    "colab": {
      "name": "1_머신러닝의 개념.ipynb",
      "provenance": [],
      "authorship_tag": "ABX9TyMEnYpmChVoMN38S1AM5lx8",
      "include_colab_link": true
    },
    "kernelspec": {
      "name": "python3",
      "display_name": "Python 3"
    },
    "language_info": {
      "name": "python"
    }
  },
  "cells": [
    {
      "cell_type": "markdown",
      "metadata": {
        "id": "view-in-github",
        "colab_type": "text"
      },
      "source": [
        "<a href=\"https://colab.research.google.com/github/jeungsengho/python8month/blob/main/1_%EB%A8%B8%EC%8B%A0%EB%9F%AC%EB%8B%9D%EC%9D%98_%EA%B0%9C%EB%85%90.ipynb\" target=\"_parent\"><img src=\"https://colab.research.google.com/assets/colab-badge.svg\" alt=\"Open In Colab\"/></a>"
      ]
    },
    {
      "cell_type": "markdown",
      "source": [
        "# 1. 머신러닝(Machine Learning)"
      ],
      "metadata": {
        "id": "XHsWIHrQRSv5"
      }
    },
    {
      "cell_type": "markdown",
      "source": [
        "* 인공지능 : 인공(Artificial) + 지능(Intelligence)\n",
        " - 과거 로봇청소기, 과거 일반적인 게임(학습을 하지 않음)\n",
        "* 머신러닝 : 학습(Learning)하는 기계(Machine)\n",
        " - Decision tree(의사 결정 나무), SVM\n",
        "* 딥러닝 : 깊은(deep) 신경망 구조의 머신러닝\n",
        " - MLP(멀티 레이어 퍼셉트론), CNN, RNN, Transformer"
      ],
      "metadata": {
        "id": "JAuFCH7ERhe_"
      }
    },
    {
      "cell_type": "markdown",
      "source": [
        "**1-1. 배경**"
      ],
      "metadata": {
        "id": "KTVrKqQKUcqn"
      }
    },
    {
      "cell_type": "markdown",
      "source": [
        "* 과거 컴퓨터로 데이터를 읽어 들이고 그 데이터 안에서 특징을 학습해서 패턴을 찾아내는 작업을 해왔음(패턴인식)\n",
        "* 데이터를 대량으로 수집 처리할 수 있는 환경이 갖춰짐으로 할 수 있는 일이 많아짐\n",
        "\n",
        "> 머신러닝은 데이터로부터 특징이나 패턴을 찾아내는 것이기 때문에 데이터가 가장 중요함"
      ],
      "metadata": {
        "id": "C3UlJJmGU29O"
      }
    },
    {
      "cell_type": "markdown",
      "source": [
        "### 1-2. 정의\n",
        "* 기계학습 또는 머신러닝은 인공지능의 한 분야로, 컴퓨터가 학습할 수 있도록 하는 알고리즘과 기술을 개발하는 분야\n",
        "* 무엇(x)으로 무엇(y)을 예측하고 싶다\n",
        " - y = f(x)\n",
        " - f: 모형(머신러닝 알고리즘), x: 입력변수(독립변수,자료), y: 출력변수(종속변수,결과)\n",
        "* 주어진 데이터를 통해서 입력변수와 출력변수간의 관계를 만드는 함수 f를 만드는 것"
      ],
      "metadata": {
        "id": "QxHPXTC8VqHO"
      }
    },
    {
      "cell_type": "markdown",
      "source": [
        "# 2. 머신러닝으로 할 수 있는 것"
      ],
      "metadata": {
        "id": "sSiXGs5zVwuf"
      }
    },
    {
      "cell_type": "markdown",
      "source": [
        "### 2-1. 회귀(Regression)\n",
        "* 시계열(시간적인 변화를 연속적으로 관측한 데이터) 같은 연속된 데이터를 취급할 때 사용하는 기법\n",
        "* 과거 주식 추세를 학습해서 내일의 주가를 예측하는 시스템\n"
      ],
      "metadata": {
        "id": "g3ajFHJmWl0K"
      }
    },
    {
      "cell_type": "markdown",
      "source": [
        "### 2-2. 분류(Classification)\n",
        "* 주어진 데이터를 클래스 별로 구별해 내는 과정으로 데이터와 데이터의 레이블 값을 학습시키고 어느 범주에 속한 데이터인지 판단하고 예측하는 기법\n",
        "* 스팸메일인지 아닌지 구별해주는 시스템\n",
        "* 숫자 손글씨 데이터를 통해 숫자 이미지 분류 모델"
      ],
      "metadata": {
        "id": "FEJgpUVbXajr"
      }
    },
    {
      "cell_type": "markdown",
      "source": [
        "### 2-3. 클러스터링(Clustering)\n",
        "* 분류와 비슷하지만 데이터에 레이블(정답 데이터)이 없음\n",
        "* 유사한 속성들을 갖는 데이터를 일정한 수의 군집으로 그룹핑하는 비지도 학습\n",
        "* SNS 데이터를 통해 소셜 및 사회 이슈를 파악"
      ],
      "metadata": {
        "id": "eSp7lJrmYJ2-"
      }
    },
    {
      "cell_type": "markdown",
      "source": [
        "# 3. 학습"
      ],
      "metadata": {
        "id": "13NFCMUFZTs8"
      }
    },
    {
      "cell_type": "markdown",
      "source": [
        "### 3-1. 지도학습\n",
        "* y = f(x)에 대하여 입력 변수(x)와 출력 변수(y)의 관계에 대하여 모델링하는 것\n",
        "* y에 대하여 예측 또는 분류하는 문제\n",
        "* 레이블이 주어짐"
      ],
      "metadata": {
        "id": "FY5yrPxeZj2a"
      }
    },
    {
      "cell_type": "markdown",
      "source": [
        "### 3-2. 비지도학습\n",
        "* 출력 변수(y)가 존재하지 않고, 입력 변수(x)간의 관계에 대해 모델링 하는 것\n",
        "* 군집 분석: 유사한 데이터끼리 그룹화\n",
        "* PCA: 독립변수들의 차원을 축소화\n"
      ],
      "metadata": {
        "id": "eCyVqeqfZ9l_"
      }
    },
    {
      "cell_type": "markdown",
      "source": [
        "### 3-3. 강화학습\n",
        "* 수 많은 시뮬레이션을 통해 현재의 선택이 먼 미래에 보상이 최대가 되도록 학습\n",
        "* Agent가 action을 취하고 환경에서 보상을 받고 이 보상이 최대가 되도록 최적의 action을 취하는 방법을 배움\n"
      ],
      "metadata": {
        "id": "471BHKVQagLc"
      }
    },
    {
      "cell_type": "markdown",
      "source": [
        "# 4. 머신러닝의 종류"
      ],
      "metadata": {
        "id": "GCusTG89bP3k"
      }
    },
    {
      "cell_type": "markdown",
      "source": [
        "### 4-1. 선형회귀분석\n",
        "* '독립변수와 종속변수가 선형적인 관계가 있다'라는 가정하에 분석\n",
        "* 직선을 통해 종속변수를 예측하기 때문에 독립변수의 중요도와 영향력을 파악하기 쉬움\n"
      ],
      "metadata": {
        "id": "wa-pYxJ4bZ8f"
      }
    },
    {
      "cell_type": "markdown",
      "source": [
        "### 4-2. 의사결정나무\n",
        "* 독립변수의 조건에 따라 종속변수를 분리\n",
        "* 이해하기 쉬우나 overfitting이 잘 일어남\n",
        "* overfitting(과적합): 학습 데이터에 대해 과하게 학습된 상황 따라서 학습 데이터 이외의 데이터에 대해선 모델이 잘 동작하지 못함"
      ],
      "metadata": {
        "id": "EtISMKeNbw7x"
      }
    },
    {
      "cell_type": "markdown",
      "source": [
        "### 4-3. KNN\n",
        "* 새로 들어온 데이터의 주변 k개의 데이터의 class로 분류하는 기법\n"
      ],
      "metadata": {
        "id": "SG38sf2kcJz_"
      }
    },
    {
      "cell_type": "markdown",
      "source": [
        "### 4-4. Neural Network\n",
        "* 입력, 은닉, 출력층으로 구성된 모형으로써 각 층을 연결하는 노드의 가중치를 업데이트하면서 학습"
      ],
      "metadata": {
        "id": "DpVQJpxgc_yY"
      }
    },
    {
      "cell_type": "markdown",
      "source": [
        "### 4-5. SVM\n",
        "* class 간의 거리가 최대가 되도록 decision boundary를 만드는 방법"
      ],
      "metadata": {
        "id": "-chGCc55dSrn"
      }
    },
    {
      "cell_type": "markdown",
      "source": [
        "### 4-6. Ensemble Learning\n",
        "* 여러개의 모델을 결합하여 사용하는 모델"
      ],
      "metadata": {
        "id": "eMIwOvQSd114"
      }
    },
    {
      "cell_type": "markdown",
      "source": [
        "### 4-7. K-means clustering\n",
        "* Label 없이 데이터의 군집으로 k개를 생성"
      ],
      "metadata": {
        "id": "SRWXpkhre4IZ"
      }
    },
    {
      "cell_type": "markdown",
      "source": [
        "# 5. 데이터 분석과정"
      ],
      "metadata": {
        "id": "VJGSTs1Gf4Bn"
      }
    },
    {
      "cell_type": "markdown",
      "source": [
        "* raw 데이터 -> 전처리 된 데이터 -> 실험설계 -> 모델 \n",
        "* 모델의 성능을 높이려면 데이터를 잘 만들어야 함(목적에 맞게 합리적으로 만듬)"
      ],
      "metadata": {
        "id": "TMdiI8vIf88K"
      }
    },
    {
      "cell_type": "code",
      "source": [
        ""
      ],
      "metadata": {
        "id": "jPquIqWuhNMv"
      },
      "execution_count": null,
      "outputs": []
    }
  ]
}