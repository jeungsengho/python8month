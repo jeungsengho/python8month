{
  "nbformat": 4,
  "nbformat_minor": 0,
  "metadata": {
    "colab": {
      "name": "2_사이킷런 모듈.ipynb",
      "provenance": [],
      "authorship_tag": "ABX9TyNuf10sSktQUXtGgR4w7eee",
      "include_colab_link": true
    },
    "kernelspec": {
      "name": "python3",
      "display_name": "Python 3"
    },
    "language_info": {
      "name": "python"
    }
  },
  "cells": [
    {
      "cell_type": "markdown",
      "metadata": {
        "id": "view-in-github",
        "colab_type": "text"
      },
      "source": [
        "<a href=\"https://colab.research.google.com/github/jeungsengho/python8month/blob/main/2_%EC%82%AC%EC%9D%B4%ED%82%B7%EB%9F%B0_%EB%AA%A8%EB%93%88.ipynb\" target=\"_parent\"><img src=\"https://colab.research.google.com/assets/colab-badge.svg\" alt=\"Open In Colab\"/></a>"
      ]
    },
    {
      "cell_type": "markdown",
      "source": [
        "# 1. Scikit-learn 모듈\n"
      ],
      "metadata": {
        "id": "W_zkIBNWjm7Y"
      }
    },
    {
      "cell_type": "markdown",
      "source": [
        "* https://scikit-learn.org\n",
        "* 대표적인 파이썬 머신러닝 프레임워크\n",
        "* 다양한 머신러닝 알고리즘을 제공\n",
        "* 다양한 샘플 데이터를 제공\n",
        "* 머신러닝 결과를 검증하는 기능을 제공\n",
        "* BSD 라이선스이기 때문에 무료로 사용 및 배포가 가능\n"
      ],
      "metadata": {
        "id": "lhWzFnSajxNA"
      }
    },
    {
      "cell_type": "markdown",
      "source": [
        "### 1-1. LinearSVC\n",
        "* 클래스를 구분으로 하는 분류 문제에서 각 클래스를 잘 구분하는 선을 그려주는 방식을 사용하는 알고리즘\n",
        "* 지도학습 알고리즘을 사용하는 학습 전용 데이터와 결과 전용 데이터를 함께 가지고 있어야 사용이 가능"
      ],
      "metadata": {
        "id": "FHXig3QslC-V"
      }
    },
    {
      "cell_type": "code",
      "source": [
        "from sklearn.svm import LinearSVC\n",
        "from sklearn.metrics import accuracy_score"
      ],
      "metadata": {
        "id": "lMNvr4K5lZYt"
      },
      "execution_count": null,
      "outputs": []
    },
    {
      "cell_type": "code",
      "source": [
        "learn_data = [[0 ,0],[1, 0], [0, 1], [1, 1]]\n",
        "learn_label = [0, 0, 0, 1]"
      ],
      "metadata": {
        "id": "h-AewWjglqVT"
      },
      "execution_count": null,
      "outputs": []
    },
    {
      "cell_type": "code",
      "source": [
        "svc = LinearSVC() # 객체 생성\n",
        "svc.fit(learn_data, learn_label) # 학습"
      ],
      "metadata": {
        "colab": {
          "base_uri": "https://localhost:8080/"
        },
        "id": "QYlx_fpbl5KN",
        "outputId": "e925c056-2e62-455b-cf00-67ec459a78e2"
      },
      "execution_count": null,
      "outputs": [
        {
          "output_type": "execute_result",
          "data": {
            "text/plain": [
              "LinearSVC()"
            ]
          },
          "metadata": {},
          "execution_count": 4
        }
      ]
    },
    {
      "cell_type": "code",
      "source": [
        "test_data = [[0 ,0],[1, 0], [0, 1], [1, 1]]\n",
        "test_label = svc.predict(test_data) # 예측"
      ],
      "metadata": {
        "id": "25EKn_aVmKgW"
      },
      "execution_count": null,
      "outputs": []
    },
    {
      "cell_type": "code",
      "source": [
        "print(test_data, '의 예측 결과 : ', test_label)"
      ],
      "metadata": {
        "colab": {
          "base_uri": "https://localhost:8080/"
        },
        "id": "RnvUiaqqmtpg",
        "outputId": "96c25dbd-ea52-4dfb-dc5b-226a9fddd193"
      },
      "execution_count": null,
      "outputs": [
        {
          "output_type": "stream",
          "name": "stdout",
          "text": [
            "[[0, 0], [1, 0], [0, 1], [1, 1]] 의 예측 결과 :  [0 0 0 1]\n"
          ]
        }
      ]
    },
    {
      "cell_type": "code",
      "source": [
        "print('정답률: ', accuracy_score([0, 0, 0, 1], test_label))"
      ],
      "metadata": {
        "colab": {
          "base_uri": "https://localhost:8080/"
        },
        "id": "SSoT4_W1mzL-",
        "outputId": "cab380e7-2c94-48f1-b5a0-3fbd6a392986"
      },
      "execution_count": null,
      "outputs": [
        {
          "output_type": "stream",
          "name": "stdout",
          "text": [
            "정답률:  1.0\n"
          ]
        }
      ]
    },
    {
      "cell_type": "code",
      "source": [
        ""
      ],
      "metadata": {
        "id": "e8E1lUKtm--r"
      },
      "execution_count": null,
      "outputs": []
    }
  ]
}