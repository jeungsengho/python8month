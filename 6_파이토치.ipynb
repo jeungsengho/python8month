{
  "nbformat": 4,
  "nbformat_minor": 0,
  "metadata": {
    "colab": {
      "name": "6_파이토치.ipynb",
      "provenance": [],
      "authorship_tag": "ABX9TyP9ZWLn8OF4K8TVQNNY1mHd",
      "include_colab_link": true
    },
    "kernelspec": {
      "name": "python3",
      "display_name": "Python 3"
    },
    "language_info": {
      "name": "python"
    },
    "accelerator": "GPU",
    "gpuClass": "standard"
  },
  "cells": [
    {
      "cell_type": "markdown",
      "metadata": {
        "id": "view-in-github",
        "colab_type": "text"
      },
      "source": [
        "<a href=\"https://colab.research.google.com/github/jeungsengho/python8month/blob/main/6_%ED%8C%8C%EC%9D%B4%ED%86%A0%EC%B9%98.ipynb\" target=\"_parent\"><img src=\"https://colab.research.google.com/assets/colab-badge.svg\" alt=\"Open In Colab\"/></a>"
      ]
    },
    {
      "cell_type": "markdown",
      "source": [
        "# 1. 파이토치(Pytorch)"
      ],
      "metadata": {
        "id": "6Fe66L-RUtYB"
      }
    },
    {
      "cell_type": "markdown",
      "source": [
        "* Pytorch는 tensorflow와 함께 머신러닝, 딥러닝에서 가장 널리 사용되는 framework\n",
        "* framework : 이미 틀은 만들어져 있고 그 안을 채워가며 개발하는 것\n",
        "* 초기에는 Torch라는 이름으로 Lua언어 기반으로 만들어졌으나, 이후 Python 기반으로 변경한 것이 Pytorch\n",
        "* NewYork 대학교와 FaceBook이 공동으로 개발하였고, 현재 가장 대중적이고 널리 사용되는 framework"
      ],
      "metadata": {
        "id": "1xUUE_-QVPvk"
      }
    },
    {
      "cell_type": "code",
      "source": [
        "import torch\n",
        "print(torch.__version__)"
      ],
      "metadata": {
        "colab": {
          "base_uri": "https://localhost:8080/"
        },
        "id": "qcfDU-AxVs8U",
        "outputId": "e6e5595c-8b32-40f0-ab2e-5fb526b36ee2"
      },
      "execution_count": 2,
      "outputs": [
        {
          "output_type": "stream",
          "name": "stdout",
          "text": [
            "1.12.1+cu113\n"
          ]
        }
      ]
    },
    {
      "cell_type": "markdown",
      "source": [
        "### 1-1. Tensor\n",
        "* 텐서는 배열이나 행렬과 매우 유사한 특수 자료구조\n",
        "* 파이토치는 텐서를 사용하여 모델의 입력과 출력, 모델의 매개변수들을 부호화함"
      ],
      "metadata": {
        "id": "TkyUfin_V_Gb"
      }
    },
    {
      "cell_type": "code",
      "source": [
        "data = [[1, 2], [3, 4]]\n",
        "x_data = torch.tensor(data)\n",
        "print(x_data)"
      ],
      "metadata": {
        "colab": {
          "base_uri": "https://localhost:8080/"
        },
        "id": "uZ933B2gWY5B",
        "outputId": "a765f0ec-26d1-4a84-93f5-f147659f4594"
      },
      "execution_count": 3,
      "outputs": [
        {
          "output_type": "stream",
          "name": "stdout",
          "text": [
            "tensor([[1, 2],\n",
            "        [3, 4]])\n"
          ]
        }
      ]
    },
    {
      "cell_type": "code",
      "source": [
        "import numpy as np"
      ],
      "metadata": {
        "id": "WnpjtIa5WfHb"
      },
      "execution_count": 4,
      "outputs": []
    },
    {
      "cell_type": "code",
      "source": [
        "np_array = np.array(data)\n",
        "x_np_1 = torch.tensor(np_array)\n",
        "print(x_np_1)"
      ],
      "metadata": {
        "colab": {
          "base_uri": "https://localhost:8080/"
        },
        "id": "-ekRzGH5Wz00",
        "outputId": "de493ca3-9446-4349-c036-c74f509958db"
      },
      "execution_count": 5,
      "outputs": [
        {
          "output_type": "stream",
          "name": "stdout",
          "text": [
            "tensor([[1, 2],\n",
            "        [3, 4]])\n"
          ]
        }
      ]
    },
    {
      "cell_type": "code",
      "source": [
        "x_np_1[0, 0] = 100\n",
        "print(x_np_1) # 새로운 텐서\n",
        "print(np_array) # 기존 ndarray"
      ],
      "metadata": {
        "colab": {
          "base_uri": "https://localhost:8080/"
        },
        "id": "7hR7zSE1XMEX",
        "outputId": "f36d6573-0bc9-43f8-ac6d-afa376a63298"
      },
      "execution_count": 6,
      "outputs": [
        {
          "output_type": "stream",
          "name": "stdout",
          "text": [
            "tensor([[100,   2],\n",
            "        [  3,   4]])\n",
            "[[1 2]\n",
            " [3 4]]\n"
          ]
        }
      ]
    },
    {
      "cell_type": "code",
      "source": [
        "x_np_2 = torch.as_tensor(np_array)  # 동일한 메모리 주소를 가리키는 뷰를 만듬\n",
        "print(x_np_2)"
      ],
      "metadata": {
        "colab": {
          "base_uri": "https://localhost:8080/"
        },
        "id": "HHgNlRiSXPc5",
        "outputId": "a56579a2-b5ee-4f44-e3cf-24e7b05a82a8"
      },
      "execution_count": 7,
      "outputs": [
        {
          "output_type": "stream",
          "name": "stdout",
          "text": [
            "tensor([[1, 2],\n",
            "        [3, 4]])\n"
          ]
        }
      ]
    },
    {
      "cell_type": "code",
      "source": [
        "x_np_2[0, 0] = 200\n",
        "print(x_np_2)\n",
        "print(np_array)"
      ],
      "metadata": {
        "colab": {
          "base_uri": "https://localhost:8080/"
        },
        "id": "qn98ip_iX9vO",
        "outputId": "721c656b-4824-424d-e676-b2fb449ce509"
      },
      "execution_count": 8,
      "outputs": [
        {
          "output_type": "stream",
          "name": "stdout",
          "text": [
            "tensor([[200,   2],\n",
            "        [  3,   4]])\n",
            "[[200   2]\n",
            " [  3   4]]\n"
          ]
        }
      ]
    },
    {
      "cell_type": "code",
      "source": [
        "x_np_3 = torch.from_numpy(np_array) # 동일한 메모리 주소를 가리키는 뷰를 만듬\n",
        "print(x_np_3)"
      ],
      "metadata": {
        "colab": {
          "base_uri": "https://localhost:8080/"
        },
        "id": "SBHBIb5uYDFn",
        "outputId": "a3ec365a-774c-4bf4-809b-7a3f8afa4e16"
      },
      "execution_count": 9,
      "outputs": [
        {
          "output_type": "stream",
          "name": "stdout",
          "text": [
            "tensor([[200,   2],\n",
            "        [  3,   4]])\n"
          ]
        }
      ]
    },
    {
      "cell_type": "code",
      "source": [
        "x_np_3[0, 0] = 300\n",
        "print(x_np_3)\n",
        "print(np_array)"
      ],
      "metadata": {
        "colab": {
          "base_uri": "https://localhost:8080/"
        },
        "id": "ucYsrUo8YTz3",
        "outputId": "6a2acde0-b453-4867-9943-54ed0f1a94c5"
      },
      "execution_count": 10,
      "outputs": [
        {
          "output_type": "stream",
          "name": "stdout",
          "text": [
            "tensor([[300,   2],\n",
            "        [  3,   4]])\n",
            "[[300   2]\n",
            " [  3   4]]\n"
          ]
        }
      ]
    },
    {
      "cell_type": "code",
      "source": [
        "np_again = x_np_1.numpy()\n",
        "print(np_again, type(np_again))"
      ],
      "metadata": {
        "colab": {
          "base_uri": "https://localhost:8080/"
        },
        "id": "Z9kxxZwVYYSb",
        "outputId": "48abc740-5e02-4e6c-9212-03517a19284c"
      },
      "execution_count": 11,
      "outputs": [
        {
          "output_type": "stream",
          "name": "stdout",
          "text": [
            "[[100   2]\n",
            " [  3   4]] <class 'numpy.ndarray'>\n"
          ]
        }
      ]
    },
    {
      "cell_type": "code",
      "source": [
        "a = torch.ones(2, 3)\n",
        "print(a)\n",
        "\n",
        "b = torch.zeros(2, 3)\n",
        "print(b)\n",
        "\n",
        "c = torch.full((2, 3), 2)\n",
        "print(c)\n",
        "\n",
        "d = torch.empty(2, 3)\n",
        "print(d)"
      ],
      "metadata": {
        "colab": {
          "base_uri": "https://localhost:8080/"
        },
        "id": "YRIU_X-AYy8_",
        "outputId": "ef1bb1fb-d1f1-4e55-87f0-71906cfe4091"
      },
      "execution_count": 12,
      "outputs": [
        {
          "output_type": "stream",
          "name": "stdout",
          "text": [
            "tensor([[1., 1., 1.],\n",
            "        [1., 1., 1.]])\n",
            "tensor([[0., 0., 0.],\n",
            "        [0., 0., 0.]])\n",
            "tensor([[2, 2, 2],\n",
            "        [2, 2, 2]])\n",
            "tensor([[1.0230e-35, 0.0000e+00, 3.3631e-44],\n",
            "        [0.0000e+00,        nan, 1.0000e+00]])\n"
          ]
        }
      ]
    },
    {
      "cell_type": "code",
      "source": [
        "e = torch.eye(3)\n",
        "print(e)"
      ],
      "metadata": {
        "colab": {
          "base_uri": "https://localhost:8080/"
        },
        "id": "-hXClo-MY5Kb",
        "outputId": "4e7673d3-f7f2-441e-98c8-a347a9058f5a"
      },
      "execution_count": 13,
      "outputs": [
        {
          "output_type": "stream",
          "name": "stdout",
          "text": [
            "tensor([[1., 0., 0.],\n",
            "        [0., 1., 0.],\n",
            "        [0., 0., 1.]])\n"
          ]
        }
      ]
    },
    {
      "cell_type": "code",
      "source": [
        "f = torch.arange(10)\n",
        "print(f)"
      ],
      "metadata": {
        "colab": {
          "base_uri": "https://localhost:8080/"
        },
        "id": "7EQ4PRR5ZX7F",
        "outputId": "6fad1ce8-dede-41f7-8927-45e7dbf3d624"
      },
      "execution_count": 14,
      "outputs": [
        {
          "output_type": "stream",
          "name": "stdout",
          "text": [
            "tensor([0, 1, 2, 3, 4, 5, 6, 7, 8, 9])\n"
          ]
        }
      ]
    },
    {
      "cell_type": "code",
      "source": [
        "g = torch.rand(2, 2)\n",
        "print(g)\n",
        "\n",
        "h = torch.randn(2, 2)\n",
        "print(h)"
      ],
      "metadata": {
        "colab": {
          "base_uri": "https://localhost:8080/"
        },
        "id": "1ug3HoCSZl1l",
        "outputId": "11afd05f-2bb5-43fb-b8c3-78b9bbcc2979"
      },
      "execution_count": 15,
      "outputs": [
        {
          "output_type": "stream",
          "name": "stdout",
          "text": [
            "tensor([[0.5506, 0.1356],\n",
            "        [0.4304, 0.4874]])\n",
            "tensor([[-0.5642, -2.3217],\n",
            "        [-0.4280, -0.1441]])\n"
          ]
        }
      ]
    },
    {
      "cell_type": "markdown",
      "source": [
        "### 1-2. Tensor 속성"
      ],
      "metadata": {
        "id": "zbrZNiinZpOt"
      }
    },
    {
      "cell_type": "code",
      "source": [
        "tensor = torch.rand(3, 4)\n",
        "print(f'shape: {tensor.shape}')\n",
        "print(f'type: {tensor.dtype}')\n",
        "print(f'device: {tensor.device}')"
      ],
      "metadata": {
        "colab": {
          "base_uri": "https://localhost:8080/"
        },
        "id": "3zlNNRO4Zybk",
        "outputId": "adb22b97-937c-4132-955e-c4f05f0c50ba"
      },
      "execution_count": 16,
      "outputs": [
        {
          "output_type": "stream",
          "name": "stdout",
          "text": [
            "shape: torch.Size([3, 4])\n",
            "type: torch.float32\n",
            "device: cpu\n"
          ]
        }
      ]
    },
    {
      "cell_type": "code",
      "source": [
        "# 속성 변경 \n",
        "# 코랩에서 device 변경하는 방법 : 런타임 -> 런타임 유형 변경 -> 하드웨어 가속기를 gpu로 변경\n",
        "tensor = tensor.reshape(4, 3) # 안에 있는 요소의 갯수만 맞춰주면 바꿀 수 있다.\n",
        "tensor = tensor.int()\n",
        "if torch.cuda.is_available():\n",
        "  tensor = tensor.to('cuda')\n",
        "\n",
        "print(f'shape: {tensor.shape}')\n",
        "print(f'type: {tensor.dtype}')\n",
        "print(f'device: {tensor.device}')"
      ],
      "metadata": {
        "colab": {
          "base_uri": "https://localhost:8080/"
        },
        "id": "gDbzMr8bZ56m",
        "outputId": "a58d5cc8-5572-4c35-fdd3-a2f44b9d540b"
      },
      "execution_count": 17,
      "outputs": [
        {
          "output_type": "stream",
          "name": "stdout",
          "text": [
            "shape: torch.Size([4, 3])\n",
            "type: torch.int32\n",
            "device: cuda:0\n"
          ]
        }
      ]
    },
    {
      "cell_type": "markdown",
      "source": [
        "### 1-3. Indexing과 Slicing"
      ],
      "metadata": {
        "id": "zwMtBxQTaUKH"
      }
    },
    {
      "cell_type": "code",
      "source": [
        "a = torch.arange(1, 13).reshape(3, 4)\n",
        "print(a)"
      ],
      "metadata": {
        "colab": {
          "base_uri": "https://localhost:8080/"
        },
        "id": "qCOKtpM1beu2",
        "outputId": "0f38802a-5ec3-4c0c-9ef1-626f78fc6984"
      },
      "execution_count": 18,
      "outputs": [
        {
          "output_type": "stream",
          "name": "stdout",
          "text": [
            "tensor([[ 1,  2,  3,  4],\n",
            "        [ 5,  6,  7,  8],\n",
            "        [ 9, 10, 11, 12]])\n"
          ]
        }
      ]
    },
    {
      "cell_type": "code",
      "source": [
        "print(a[1])\n",
        "print(a[0, -1])\n",
        "print(a[1:-1])\n",
        "print(a[:2, 2:])"
      ],
      "metadata": {
        "colab": {
          "base_uri": "https://localhost:8080/"
        },
        "id": "y0Dcz_kKbl_H",
        "outputId": "89fdf8d4-7c92-4224-99a1-e422188c49b1"
      },
      "execution_count": 22,
      "outputs": [
        {
          "output_type": "stream",
          "name": "stdout",
          "text": [
            "tensor([5, 6, 7, 8])\n",
            "tensor(4)\n",
            "tensor([[5, 6, 7, 8]])\n",
            "tensor([[3, 4],\n",
            "        [7, 8]])\n"
          ]
        }
      ]
    },
    {
      "cell_type": "markdown",
      "source": [
        "### 1-4. Transpose (형태 변경)\n",
        "\n"
      ],
      "metadata": {
        "id": "RikV-lh6bpmE"
      }
    },
    {
      "cell_type": "code",
      "source": [
        "a = torch.arange(16).reshape(2, 2, 4)\n",
        "print(a, a.shape)"
      ],
      "metadata": {
        "colab": {
          "base_uri": "https://localhost:8080/"
        },
        "id": "H4is-Z0JcG_R",
        "outputId": "1581a04c-d2a5-4cd8-f14e-f33f13ca940c"
      },
      "execution_count": 23,
      "outputs": [
        {
          "output_type": "stream",
          "name": "stdout",
          "text": [
            "tensor([[[ 0,  1,  2,  3],\n",
            "         [ 4,  5,  6,  7]],\n",
            "\n",
            "        [[ 8,  9, 10, 11],\n",
            "         [12, 13, 14, 15]]]) torch.Size([2, 2, 4])\n"
          ]
        }
      ]
    },
    {
      "cell_type": "code",
      "source": [
        "b = a.transpose(1, 2)\n",
        "print(b, b.shape)"
      ],
      "metadata": {
        "colab": {
          "base_uri": "https://localhost:8080/"
        },
        "id": "nyZJeU8bcORh",
        "outputId": "8545618e-241c-4284-b899-2d328f4eca4a"
      },
      "execution_count": 24,
      "outputs": [
        {
          "output_type": "stream",
          "name": "stdout",
          "text": [
            "tensor([[[ 0,  4],\n",
            "         [ 1,  5],\n",
            "         [ 2,  6],\n",
            "         [ 3,  7]],\n",
            "\n",
            "        [[ 8, 12],\n",
            "         [ 9, 13],\n",
            "         [10, 14],\n",
            "         [11, 15]]]) torch.Size([2, 4, 2])\n"
          ]
        }
      ]
    },
    {
      "cell_type": "code",
      "source": [
        "c = a.permute((2, 0, 1))\n",
        "print(c, c.shape)"
      ],
      "metadata": {
        "colab": {
          "base_uri": "https://localhost:8080/"
        },
        "id": "QgZSNJp8cgMz",
        "outputId": "f0e82b1a-7007-4dcc-8a79-67636b1aef25"
      },
      "execution_count": 25,
      "outputs": [
        {
          "output_type": "stream",
          "name": "stdout",
          "text": [
            "tensor([[[ 0,  4],\n",
            "         [ 8, 12]],\n",
            "\n",
            "        [[ 1,  5],\n",
            "         [ 9, 13]],\n",
            "\n",
            "        [[ 2,  6],\n",
            "         [10, 14]],\n",
            "\n",
            "        [[ 3,  7],\n",
            "         [11, 15]]]) torch.Size([4, 2, 2])\n"
          ]
        }
      ]
    },
    {
      "cell_type": "markdown",
      "source": [
        "### 1-5. Tensor 연산"
      ],
      "metadata": {
        "id": "8l3Pb4oVcvjE"
      }
    },
    {
      "cell_type": "code",
      "source": [
        "x = torch.tensor([[1, 2], [3, 4]], dtype=torch.float32)\n",
        "y = torch.tensor([[5, 6], [7, 8]], dtype=torch.float32)\n",
        "print(x)\n",
        "print(y)"
      ],
      "metadata": {
        "colab": {
          "base_uri": "https://localhost:8080/"
        },
        "id": "Ag7cz6wWc_65",
        "outputId": "6553792e-0348-417d-c494-72582f30781c"
      },
      "execution_count": 28,
      "outputs": [
        {
          "output_type": "stream",
          "name": "stdout",
          "text": [
            "tensor([[1., 2.],\n",
            "        [3., 4.]])\n",
            "tensor([[5., 6.],\n",
            "        [7., 8.]])\n"
          ]
        }
      ]
    },
    {
      "cell_type": "code",
      "source": [
        "print(x + y)\n",
        "print(x - y)\n",
        "print(x * y)\n",
        "print(x / y)\n",
        "print(x @ y)\n",
        "print('*' * 30)\n",
        "print(torch.add(x, y))\n",
        "print(torch.subtract(x, y))\n",
        "print(torch.multiply(x, y))\n",
        "print(torch.divide(x, y))\n",
        "print(torch.matmul(x, y))"
      ],
      "metadata": {
        "colab": {
          "base_uri": "https://localhost:8080/"
        },
        "id": "r7sBHWGRdO_k",
        "outputId": "2317c254-162b-400e-cf84-ae3e493a1d79"
      },
      "execution_count": 30,
      "outputs": [
        {
          "output_type": "stream",
          "name": "stdout",
          "text": [
            "tensor([[ 6.,  8.],\n",
            "        [10., 12.]])\n",
            "tensor([[-4., -4.],\n",
            "        [-4., -4.]])\n",
            "tensor([[ 5., 12.],\n",
            "        [21., 32.]])\n",
            "tensor([[0.2000, 0.3333],\n",
            "        [0.4286, 0.5000]])\n",
            "tensor([[19., 22.],\n",
            "        [43., 50.]])\n",
            "******************************\n",
            "tensor([[ 6.,  8.],\n",
            "        [10., 12.]])\n",
            "tensor([[-4., -4.],\n",
            "        [-4., -4.]])\n",
            "tensor([[ 5., 12.],\n",
            "        [21., 32.]])\n",
            "tensor([[0.2000, 0.3333],\n",
            "        [0.4286, 0.5000]])\n",
            "tensor([[19., 22.],\n",
            "        [43., 50.]])\n"
          ]
        }
      ]
    },
    {
      "cell_type": "code",
      "source": [
        "# in-place 연산\n",
        "print(x.add(y))\n",
        "print(x)\n",
        "\n",
        "print(x.add_(y)) # x에 결과를 다시 저장\n",
        "print(x)"
      ],
      "metadata": {
        "colab": {
          "base_uri": "https://localhost:8080/"
        },
        "id": "D1SWtu41dl-A",
        "outputId": "0fddb313-ab16-48ce-abd5-d2e167f1913c"
      },
      "execution_count": 33,
      "outputs": [
        {
          "output_type": "stream",
          "name": "stdout",
          "text": [
            "tensor([[ 6.,  8.],\n",
            "        [10., 12.]])\n",
            "tensor([[1., 2.],\n",
            "        [3., 4.]])\n",
            "tensor([[ 6.,  8.],\n",
            "        [10., 12.]])\n",
            "tensor([[ 6.,  8.],\n",
            "        [10., 12.]])\n"
          ]
        }
      ]
    },
    {
      "cell_type": "code",
      "source": [
        "z = torch.arange(1, 11).reshape(2, 5)\n",
        "print(z)"
      ],
      "metadata": {
        "colab": {
          "base_uri": "https://localhost:8080/"
        },
        "id": "qjAhXHYyd3Dc",
        "outputId": "3e5ba380-b9bf-47bc-a473-cf71cba46a9d"
      },
      "execution_count": 34,
      "outputs": [
        {
          "output_type": "stream",
          "name": "stdout",
          "text": [
            "tensor([[ 1,  2,  3,  4,  5],\n",
            "        [ 6,  7,  8,  9, 10]])\n"
          ]
        }
      ]
    },
    {
      "cell_type": "code",
      "source": [
        "sum1 = torch.sum(z, axis=0)\n",
        "print(sum1, sum1.shape)\n",
        "\n",
        "sum2 = torch.sum(z, axis=1)\n",
        "print(sum2, sum2.shape)\n",
        "\n",
        "sum3 = torch.sum(z, axis=-1)\n",
        "print(sum3, sum3.shape)"
      ],
      "metadata": {
        "colab": {
          "base_uri": "https://localhost:8080/"
        },
        "id": "7Qvhpzhleef8",
        "outputId": "f6bb1fd9-ef3c-43a0-c4ec-cd8bee01b5e3"
      },
      "execution_count": 39,
      "outputs": [
        {
          "output_type": "stream",
          "name": "stdout",
          "text": [
            "tensor([ 7,  9, 11, 13, 15]) torch.Size([5])\n",
            "tensor([15, 40]) torch.Size([2])\n",
            "tensor([15, 40]) torch.Size([2])\n"
          ]
        }
      ]
    },
    {
      "cell_type": "code",
      "source": [
        "a = torch.arange(24).reshape(4, 6)\n",
        "b = a.clone().detach()\n",
        "print(a, a.shape)\n",
        "print(b, b.shape)"
      ],
      "metadata": {
        "colab": {
          "base_uri": "https://localhost:8080/"
        },
        "id": "uH8MDp7kej4R",
        "outputId": "ee775679-4487-475b-9de0-bf02383942b6"
      },
      "execution_count": 40,
      "outputs": [
        {
          "output_type": "stream",
          "name": "stdout",
          "text": [
            "tensor([[ 0,  1,  2,  3,  4,  5],\n",
            "        [ 6,  7,  8,  9, 10, 11],\n",
            "        [12, 13, 14, 15, 16, 17],\n",
            "        [18, 19, 20, 21, 22, 23]]) torch.Size([4, 6])\n",
            "tensor([[ 0,  1,  2,  3,  4,  5],\n",
            "        [ 6,  7,  8,  9, 10, 11],\n",
            "        [12, 13, 14, 15, 16, 17],\n",
            "        [18, 19, 20, 21, 22, 23]]) torch.Size([4, 6])\n"
          ]
        }
      ]
    },
    {
      "cell_type": "code",
      "source": [
        ""
      ],
      "metadata": {
        "id": "4V_MTs3rfPIz"
      },
      "execution_count": null,
      "outputs": []
    }
  ]
}