{
  "nbformat": 4,
  "nbformat_minor": 0,
  "metadata": {
    "colab": {
      "name": "5_텐서플로우.ipynb",
      "provenance": [],
      "authorship_tag": "ABX9TyNRj0DSEXMdIe/m+gFUlv7L",
      "include_colab_link": true
    },
    "kernelspec": {
      "name": "python3",
      "display_name": "Python 3"
    },
    "language_info": {
      "name": "python"
    }
  },
  "cells": [
    {
      "cell_type": "markdown",
      "metadata": {
        "id": "view-in-github",
        "colab_type": "text"
      },
      "source": [
        "<a href=\"https://colab.research.google.com/github/jeungsengho/python8month/blob/main/5_%ED%85%90%EC%84%9C%ED%94%8C%EB%A1%9C%EC%9A%B0.ipynb\" target=\"_parent\"><img src=\"https://colab.research.google.com/assets/colab-badge.svg\" alt=\"Open In Colab\"/></a>"
      ]
    },
    {
      "cell_type": "markdown",
      "source": [
        "# 1. 텐서플로우(TensorFlow)"
      ],
      "metadata": {
        "id": "EsOQ2pt_Pg_a"
      }
    },
    {
      "cell_type": "markdown",
      "source": [
        "* 텐서플로우는 ML모델을 개발하고 학습시키는데 도움이 되는 핵심 오픈 소스 라이브러리\n",
        "* 텐서플로우 2.x에서는 케라스를 딥러닝 공식 API로 채택하였고, 텐서플로우 내의 하나의 프레임워크로 개발되고 있음"
      ],
      "metadata": {
        "id": "LVDU7QkGQD_b"
      }
    },
    {
      "cell_type": "code",
      "source": [
        "import tensorflow as tf"
      ],
      "metadata": {
        "id": "7DKnUmgCQONr"
      },
      "execution_count": 1,
      "outputs": []
    },
    {
      "cell_type": "code",
      "source": [
        "print(tf.__version__)"
      ],
      "metadata": {
        "colab": {
          "base_uri": "https://localhost:8080/"
        },
        "id": "1sl-ihnQSLhg",
        "outputId": "e27f786b-9670-4726-c953-ce95c9148e1a"
      },
      "execution_count": 2,
      "outputs": [
        {
          "output_type": "stream",
          "name": "stdout",
          "text": [
            "2.8.2\n"
          ]
        }
      ]
    },
    {
      "cell_type": "markdown",
      "source": [
        "### 1-1. Tensor\n",
        "* Tensor는 multi-dimensional array를 나타내는 말\n",
        "* Tensorflow의 기본 data type"
      ],
      "metadata": {
        "id": "Zng_-WhySQG7"
      }
    },
    {
      "cell_type": "code",
      "source": [
        "hello = tf.constant([3, 3], dtype=tf.float32)\n",
        "print(hello)\n",
        "\n",
        "hello = tf.constant('Hello Tensor!!')\n",
        "print(hello)"
      ],
      "metadata": {
        "colab": {
          "base_uri": "https://localhost:8080/"
        },
        "id": "Nq15B_aUSoe4",
        "outputId": "dfe75389-aa23-441b-cd44-f6acf92ca269"
      },
      "execution_count": 4,
      "outputs": [
        {
          "output_type": "stream",
          "name": "stdout",
          "text": [
            "tf.Tensor([3. 3.], shape=(2,), dtype=float32)\n",
            "tf.Tensor(b'Hello Tensor!!', shape=(), dtype=string)\n"
          ]
        }
      ]
    },
    {
      "cell_type": "code",
      "source": [
        "x = tf.constant([[1.0, 2.0], [3.0, 4.0]])\n",
        "print(x)\n",
        "print(type(x))"
      ],
      "metadata": {
        "colab": {
          "base_uri": "https://localhost:8080/"
        },
        "id": "tNomGi75S_so",
        "outputId": "5f92d2b5-e8b5-44cc-d491-380f4db22fdb"
      },
      "execution_count": 8,
      "outputs": [
        {
          "output_type": "stream",
          "name": "stdout",
          "text": [
            "tf.Tensor(\n",
            "[[1. 2.]\n",
            " [3. 4.]], shape=(2, 2), dtype=float32)\n",
            "<class 'tensorflow.python.framework.ops.EagerTensor'>\n"
          ]
        }
      ]
    },
    {
      "cell_type": "code",
      "source": [
        "import numpy as np"
      ],
      "metadata": {
        "id": "cKdAy03ZTkZp"
      },
      "execution_count": 9,
      "outputs": []
    },
    {
      "cell_type": "code",
      "source": [
        "x_np = np.array([[1.0, 2.0],\n",
        "                [3.0, 4.0]])\n",
        "x_list = [[1.0, 2.0],\n",
        "          [3.0, 4.0]]\n",
        "\n",
        "print(type(x_np))\n",
        "print(type(x_list))"
      ],
      "metadata": {
        "colab": {
          "base_uri": "https://localhost:8080/"
        },
        "id": "NXlcBL_RUA1S",
        "outputId": "879bb940-cb20-457a-a79f-a03c52dd9505"
      },
      "execution_count": 10,
      "outputs": [
        {
          "output_type": "stream",
          "name": "stdout",
          "text": [
            "<class 'numpy.ndarray'>\n",
            "<class 'list'>\n"
          ]
        }
      ]
    },
    {
      "cell_type": "code",
      "source": [
        "# ndarray를 tensor로 변환\n",
        "x_np_tf = tf.convert_to_tensor(x_np)\n",
        "# list를 tensor로 변환\n",
        "x_list_tf = tf.convert_to_tensor(x_list)\n",
        "\n",
        "print(type(x_np_tf))\n",
        "print(type(x_list_tf))"
      ],
      "metadata": {
        "colab": {
          "base_uri": "https://localhost:8080/"
        },
        "id": "VMMk7Io_UQJr",
        "outputId": "9df205a4-36df-4edc-990d-089ab8a9964f"
      },
      "execution_count": 13,
      "outputs": [
        {
          "output_type": "stream",
          "name": "stdout",
          "text": [
            "<class 'tensorflow.python.framework.ops.EagerTensor'>\n",
            "<class 'tensorflow.python.framework.ops.EagerTensor'>\n"
          ]
        }
      ]
    },
    {
      "cell_type": "code",
      "source": [
        "# tensor를 numpy의 ndarray로 변환\n",
        "x_np_tf.numpy()\n",
        "print(type(x_np_tf.numpy()))"
      ],
      "metadata": {
        "colab": {
          "base_uri": "https://localhost:8080/"
        },
        "id": "TC1sTMfNUok9",
        "outputId": "88b01fc9-cbf3-4aaf-fd93-4b47b9050520"
      },
      "execution_count": 15,
      "outputs": [
        {
          "output_type": "stream",
          "name": "stdout",
          "text": [
            "<class 'numpy.ndarray'>\n"
          ]
        }
      ]
    },
    {
      "cell_type": "markdown",
      "source": [
        "### 1-2. 텐서플로우 함수"
      ],
      "metadata": {
        "id": "8ThnPD_IVASG"
      }
    },
    {
      "cell_type": "code",
      "source": [
        "a = tf.ones((2, 3))\n",
        "print(a)\n",
        "\n",
        "\n",
        "b = tf.zeros((2, 3))\n",
        "print(b)\n",
        "\n",
        "c = tf.fill((2, 3), 2)\n",
        "print(c)"
      ],
      "metadata": {
        "colab": {
          "base_uri": "https://localhost:8080/"
        },
        "id": "VgJ-tEOkVUfw",
        "outputId": "9d4e87e3-c16d-4bc9-c230-b40c1e7b5dff"
      },
      "execution_count": 18,
      "outputs": [
        {
          "output_type": "stream",
          "name": "stdout",
          "text": [
            "tf.Tensor(\n",
            "[[1. 1. 1.]\n",
            " [1. 1. 1.]], shape=(2, 3), dtype=float32)\n",
            "tf.Tensor(\n",
            "[[0. 0. 0.]\n",
            " [0. 0. 0.]], shape=(2, 3), dtype=float32)\n",
            "tf.Tensor(\n",
            "[[2 2 2]\n",
            " [2 2 2]], shape=(2, 3), dtype=int32)\n"
          ]
        }
      ]
    },
    {
      "cell_type": "code",
      "source": [
        "d = tf.zeros_like(c) # shape와 dtype만 복사 (데이터는 복사하지 않음)\n",
        "print(d)\n",
        "\n",
        "e = tf.ones_like(c)\n",
        "print(e)"
      ],
      "metadata": {
        "colab": {
          "base_uri": "https://localhost:8080/"
        },
        "id": "_xL1D61QVZ-s",
        "outputId": "d886a95e-8c66-408f-f02b-aab6fb2d9ecc"
      },
      "execution_count": 20,
      "outputs": [
        {
          "output_type": "stream",
          "name": "stdout",
          "text": [
            "tf.Tensor(\n",
            "[[0 0 0]\n",
            " [0 0 0]], shape=(2, 3), dtype=int32)\n",
            "tf.Tensor(\n",
            "[[1 1 1]\n",
            " [1 1 1]], shape=(2, 3), dtype=int32)\n"
          ]
        }
      ]
    },
    {
      "cell_type": "code",
      "source": [
        "g = tf.range(10)\n",
        "print(g)"
      ],
      "metadata": {
        "colab": {
          "base_uri": "https://localhost:8080/"
        },
        "id": "vuJdgAwUWQMf",
        "outputId": "29611377-8994-4197-cd8e-4ec66e038c71"
      },
      "execution_count": 21,
      "outputs": [
        {
          "output_type": "stream",
          "name": "stdout",
          "text": [
            "tf.Tensor([0 1 2 3 4 5 6 7 8 9], shape=(10,), dtype=int32)\n"
          ]
        }
      ]
    },
    {
      "cell_type": "code",
      "source": [
        "h = tf.random.uniform((2, 2)) # uniform(): 2개의 숫자 사이의 랜덤 실수를 리턴\n",
        "print(h)\n",
        "\n",
        "i = tf.random.normal((2, 2))\n",
        "print(i)"
      ],
      "metadata": {
        "colab": {
          "base_uri": "https://localhost:8080/"
        },
        "id": "lPNQ-Gv8Wadb",
        "outputId": "770bc0b1-eb5d-4769-aa04-51e7884a14ba"
      },
      "execution_count": 23,
      "outputs": [
        {
          "output_type": "stream",
          "name": "stdout",
          "text": [
            "tf.Tensor(\n",
            "[[0.33251214 0.7787603 ]\n",
            " [0.87954545 0.40324676]], shape=(2, 2), dtype=float32)\n",
            "tf.Tensor(\n",
            "[[ 0.32132205 -0.5703143 ]\n",
            " [ 1.4022222   0.36910802]], shape=(2, 2), dtype=float32)\n"
          ]
        }
      ]
    },
    {
      "cell_type": "markdown",
      "source": [
        "### 1-3. Tensor의 속성"
      ],
      "metadata": {
        "id": "YMmDzf7aWtzL"
      }
    },
    {
      "cell_type": "code",
      "source": [
        "tensor = tf.random.normal((3, 4))\n",
        "print(f'Shape: {tensor.shape}')\n",
        "print(f'DataType: {tensor.dtype}')"
      ],
      "metadata": {
        "colab": {
          "base_uri": "https://localhost:8080/"
        },
        "id": "ng-Q9sNUXqJG",
        "outputId": "f0caa199-d9cb-4408-f3cb-6dcc4a2f78da"
      },
      "execution_count": 24,
      "outputs": [
        {
          "output_type": "stream",
          "name": "stdout",
          "text": [
            "Shape: (3, 4)\n",
            "DataType: <dtype: 'float32'>\n"
          ]
        }
      ]
    },
    {
      "cell_type": "code",
      "source": [
        "tensor = tf.reshape(tensor, (4, 3))\n",
        "tensor = tf.cast(tensor, tf.int32)\n",
        "print(f'Shape: {tensor.shape}')\n",
        "print(f'DataType: {tensor.dtype}')"
      ],
      "metadata": {
        "colab": {
          "base_uri": "https://localhost:8080/"
        },
        "id": "nHpm6P28X0Ow",
        "outputId": "eea51ba4-7a5f-4a87-9cf8-099f3adb9688"
      },
      "execution_count": 26,
      "outputs": [
        {
          "output_type": "stream",
          "name": "stdout",
          "text": [
            "Shape: (4, 3)\n",
            "DataType: <dtype: 'int32'>\n"
          ]
        }
      ]
    },
    {
      "cell_type": "markdown",
      "source": [
        "### 1-4. Variable\n",
        "* Variable은 변할 수 있는 상태를 저장하는데 사용되는 특별한 텐서\n",
        "* 딥러닝에서는 학습해야 하는 가중치(weight, bias)들을 Variable로 생성"
      ],
      "metadata": {
        "id": "a4kzN70OYBI3"
      }
    },
    {
      "cell_type": "code",
      "source": [
        "tensor = tf.ones((3, 4))\n",
        "print(tensor)\n",
        "\n",
        "tensor[0, 0] = 100 # TypeError: 'tensorflow.python.framework.ops.EagerTensor' object does not support item assignment"
      ],
      "metadata": {
        "colab": {
          "base_uri": "https://localhost:8080/",
          "height": 303
        },
        "id": "fAXTN_pzZzVb",
        "outputId": "1b4cac9c-8ee0-46d9-c2c9-0913ad38f830"
      },
      "execution_count": 30,
      "outputs": [
        {
          "output_type": "stream",
          "name": "stdout",
          "text": [
            "tf.Tensor(\n",
            "[[1. 1. 1. 1.]\n",
            " [1. 1. 1. 1.]\n",
            " [1. 1. 1. 1.]], shape=(3, 4), dtype=float32)\n"
          ]
        },
        {
          "output_type": "error",
          "ename": "TypeError",
          "evalue": "ignored",
          "traceback": [
            "\u001b[0;31m---------------------------------------------------------------------------\u001b[0m",
            "\u001b[0;31mTypeError\u001b[0m                                 Traceback (most recent call last)",
            "\u001b[0;32m<ipython-input-30-db34430ad30f>\u001b[0m in \u001b[0;36m<module>\u001b[0;34m\u001b[0m\n\u001b[1;32m      2\u001b[0m \u001b[0mprint\u001b[0m\u001b[0;34m(\u001b[0m\u001b[0mtensor\u001b[0m\u001b[0;34m)\u001b[0m\u001b[0;34m\u001b[0m\u001b[0;34m\u001b[0m\u001b[0m\n\u001b[1;32m      3\u001b[0m \u001b[0;34m\u001b[0m\u001b[0m\n\u001b[0;32m----> 4\u001b[0;31m \u001b[0mtensor\u001b[0m\u001b[0;34m[\u001b[0m\u001b[0;36m0\u001b[0m\u001b[0;34m,\u001b[0m \u001b[0;36m0\u001b[0m\u001b[0;34m]\u001b[0m \u001b[0;34m=\u001b[0m \u001b[0;36m100\u001b[0m \u001b[0;31m# TypeError: 'tensorflow.python.framework.ops.EagerTensor' object does not support item assignment\u001b[0m\u001b[0;34m\u001b[0m\u001b[0;34m\u001b[0m\u001b[0m\n\u001b[0m",
            "\u001b[0;31mTypeError\u001b[0m: 'tensorflow.python.framework.ops.EagerTensor' object does not support item assignment"
          ]
        }
      ]
    },
    {
      "cell_type": "code",
      "source": [
        "# assign() : 값 설정\n",
        "# assign_add() : 값 더하기\n",
        "# assign_sub() : 값 빼기\n",
        "\n",
        "var = tf.Variable(tensor)\n",
        "print(var)\n",
        "\n",
        "var[0, 0].assign(100)\n",
        "print(var)"
      ],
      "metadata": {
        "colab": {
          "base_uri": "https://localhost:8080/"
        },
        "id": "HCpg7aaWaF8n",
        "outputId": "9144d175-e0a6-4c7b-aed9-681e59c7e83d"
      },
      "execution_count": 35,
      "outputs": [
        {
          "output_type": "stream",
          "name": "stdout",
          "text": [
            "<tf.Variable 'Variable:0' shape=(3, 4) dtype=float32, numpy=\n",
            "array([[1., 1., 1., 1.],\n",
            "       [1., 1., 1., 1.],\n",
            "       [1., 1., 1., 1.]], dtype=float32)>\n",
            "<tf.Variable 'Variable:0' shape=(3, 4) dtype=float32, numpy=\n",
            "array([[100.,   1.,   1.,   1.],\n",
            "       [  1.,   1.,   1.,   1.],\n",
            "       [  1.,   1.,   1.,   1.]], dtype=float32)>\n"
          ]
        }
      ]
    },
    {
      "cell_type": "code",
      "source": [
        "value1 = tf.random.normal(shape=(2, 2))\n",
        "value1 = tf.Variable(value1)\n",
        "print(value1)\n",
        "value2 = tf.random.normal(shape=(2, 2))\n",
        "print(value2)\n",
        "value1.assign(value2)\n",
        "print(value1)\n",
        "\n",
        "value3 = tf.ones(shape=(2, 2))\n",
        "value1.assign_add(value3)\n",
        "print(value1)"
      ],
      "metadata": {
        "colab": {
          "base_uri": "https://localhost:8080/"
        },
        "id": "OfLy-VMBaWY0",
        "outputId": "7bb0f9d7-59e7-4081-a764-0164056c80b9"
      },
      "execution_count": 41,
      "outputs": [
        {
          "output_type": "stream",
          "name": "stdout",
          "text": [
            "<tf.Variable 'Variable:0' shape=(2, 2) dtype=float32, numpy=\n",
            "array([[ 1.3423449, -0.6557697],\n",
            "       [-1.3845158, -1.2702179]], dtype=float32)>\n",
            "tf.Tensor(\n",
            "[[-2.031311  -0.9434873]\n",
            " [ 0.2687878 -1.2055938]], shape=(2, 2), dtype=float32)\n",
            "<tf.Variable 'Variable:0' shape=(2, 2) dtype=float32, numpy=\n",
            "array([[-2.031311 , -0.9434873],\n",
            "       [ 0.2687878, -1.2055938]], dtype=float32)>\n",
            "<tf.Variable 'Variable:0' shape=(2, 2) dtype=float32, numpy=\n",
            "array([[-1.031311  ,  0.05651271],\n",
            "       [ 1.2687879 , -0.20559382]], dtype=float32)>\n"
          ]
        }
      ]
    },
    {
      "cell_type": "markdown",
      "source": [
        "### 1-5. indexing과 slicing"
      ],
      "metadata": {
        "id": "eEQlx7dRcSjQ"
      }
    },
    {
      "cell_type": "code",
      "source": [
        "a = tf.range(1, 13)\n",
        "print(a)\n",
        "\n",
        "a = tf.reshape(a, (3, 4))\n",
        "print(a)"
      ],
      "metadata": {
        "colab": {
          "base_uri": "https://localhost:8080/"
        },
        "id": "HAS_R-TFdO6g",
        "outputId": "1b382c22-a6f2-49fc-8a58-f4a426905a81"
      },
      "execution_count": 44,
      "outputs": [
        {
          "output_type": "stream",
          "name": "stdout",
          "text": [
            "tf.Tensor([ 1  2  3  4  5  6  7  8  9 10 11 12], shape=(12,), dtype=int32)\n",
            "tf.Tensor(\n",
            "[[ 1  2  3  4]\n",
            " [ 5  6  7  8]\n",
            " [ 9 10 11 12]], shape=(3, 4), dtype=int32)\n"
          ]
        }
      ]
    },
    {
      "cell_type": "code",
      "source": [
        "# indexing을 하면 차원이 감소하게 됨\n",
        "print(a[1])\n",
        "print(a[0, -1])"
      ],
      "metadata": {
        "colab": {
          "base_uri": "https://localhost:8080/"
        },
        "id": "pJXmu3G8dSAf",
        "outputId": "c013220f-ac4d-40b4-db57-a08ce7d54e00"
      },
      "execution_count": 46,
      "outputs": [
        {
          "output_type": "stream",
          "name": "stdout",
          "text": [
            "tf.Tensor([5 6 7 8], shape=(4,), dtype=int32)\n",
            "tf.Tensor(4, shape=(), dtype=int32)\n"
          ]
        }
      ]
    },
    {
      "cell_type": "code",
      "source": [
        "# slicing을 하면 차원이 유지됨\n",
        "print(a[1:-1])\n",
        "print(a[:2, 2:])"
      ],
      "metadata": {
        "colab": {
          "base_uri": "https://localhost:8080/"
        },
        "id": "aZHKqLsEdk6M",
        "outputId": "b502b7e6-ddf3-4391-e723-abb7c2e6ed05"
      },
      "execution_count": 48,
      "outputs": [
        {
          "output_type": "stream",
          "name": "stdout",
          "text": [
            "tf.Tensor([[5 6 7 8]], shape=(1, 4), dtype=int32)\n",
            "tf.Tensor(\n",
            "[[3 4]\n",
            " [7 8]], shape=(2, 2), dtype=int32)\n"
          ]
        }
      ]
    },
    {
      "cell_type": "markdown",
      "source": [
        "### 1-6. 차원 바꾸기"
      ],
      "metadata": {
        "id": "IZypGwexeCcx"
      }
    },
    {
      "cell_type": "code",
      "source": [
        "a = tf.range(16)\n",
        "print(a)\n",
        "a = tf.reshape(a, (2, 2, -1)) # -1 자동으로 만들으라는 뜻\n",
        "print(a)"
      ],
      "metadata": {
        "colab": {
          "base_uri": "https://localhost:8080/"
        },
        "id": "YgxHDMO7eckZ",
        "outputId": "2af84c9d-c961-4e5c-8f9c-d865c78e3d78"
      },
      "execution_count": 49,
      "outputs": [
        {
          "output_type": "stream",
          "name": "stdout",
          "text": [
            "tf.Tensor([ 0  1  2  3  4  5  6  7  8  9 10 11 12 13 14 15], shape=(16,), dtype=int32)\n",
            "tf.Tensor(\n",
            "[[[ 0  1  2  3]\n",
            "  [ 4  5  6  7]]\n",
            "\n",
            " [[ 8  9 10 11]\n",
            "  [12 13 14 15]]], shape=(2, 2, 4), dtype=int32)\n"
          ]
        }
      ]
    },
    {
      "cell_type": "code",
      "source": [
        "# transpose: 행렬의 차원을 인덱스로 변환 -> [0]차원 [1]행 [2]열\n",
        "b = tf.transpose(a, (2, 0, 1))  \n",
        "# 2차원 2행 4열 -> 4차원 2행 2열로 변환\n",
        "print(b)"
      ],
      "metadata": {
        "colab": {
          "base_uri": "https://localhost:8080/"
        },
        "id": "tAtvIiKBeoZL",
        "outputId": "1f113854-f36b-433d-bef1-a091313e875c"
      },
      "execution_count": 50,
      "outputs": [
        {
          "output_type": "stream",
          "name": "stdout",
          "text": [
            "tf.Tensor(\n",
            "[[[ 0  4]\n",
            "  [ 8 12]]\n",
            "\n",
            " [[ 1  5]\n",
            "  [ 9 13]]\n",
            "\n",
            " [[ 2  6]\n",
            "  [10 14]]\n",
            "\n",
            " [[ 3  7]\n",
            "  [11 15]]], shape=(4, 2, 2), dtype=int32)\n"
          ]
        }
      ]
    },
    {
      "cell_type": "markdown",
      "source": [
        "### 1-7. Tensor 연산"
      ],
      "metadata": {
        "id": "aKasdfwBfQx5"
      }
    },
    {
      "cell_type": "code",
      "source": [
        "x = tf.constant([[1, 2], [3, 4]], dtype=tf.float32)\n",
        "y = tf.constant([[5, 6], [7, 8]], dtype=tf.float32)\n",
        "print(x)\n",
        "print(y)"
      ],
      "metadata": {
        "colab": {
          "base_uri": "https://localhost:8080/"
        },
        "id": "wfBe9xsRf6JU",
        "outputId": "4b0d98a8-1ec1-4756-be62-c8fcaea22b52"
      },
      "execution_count": 51,
      "outputs": [
        {
          "output_type": "stream",
          "name": "stdout",
          "text": [
            "tf.Tensor(\n",
            "[[1. 2.]\n",
            " [3. 4.]], shape=(2, 2), dtype=float32)\n",
            "tf.Tensor(\n",
            "[[5. 6.]\n",
            " [7. 8.]], shape=(2, 2), dtype=float32)\n"
          ]
        }
      ]
    },
    {
      "cell_type": "code",
      "source": [
        "print(tf.add(x, y))\n",
        "print(tf.subtract(x, y))\n",
        "print(tf.multiply(x, y))\n",
        "print(tf.matmul(x, y))"
      ],
      "metadata": {
        "colab": {
          "base_uri": "https://localhost:8080/"
        },
        "id": "gp8A3cYkgHhc",
        "outputId": "b3b70a65-25d2-4ee3-9527-7602fa44dc24"
      },
      "execution_count": 56,
      "outputs": [
        {
          "output_type": "stream",
          "name": "stdout",
          "text": [
            "tf.Tensor(\n",
            "[[ 6.  8.]\n",
            " [10. 12.]], shape=(2, 2), dtype=float32)\n",
            "tf.Tensor(\n",
            "[[-4. -4.]\n",
            " [-4. -4.]], shape=(2, 2), dtype=float32)\n",
            "tf.Tensor(\n",
            "[[ 5. 12.]\n",
            " [21. 32.]], shape=(2, 2), dtype=float32)\n",
            "tf.Tensor(\n",
            "[[19. 22.]\n",
            " [43. 50.]], shape=(2, 2), dtype=float32)\n"
          ]
        }
      ]
    },
    {
      "cell_type": "code",
      "source": [
        "print(x + y)\n",
        "print(x - y)\n",
        "print(x * y)\n",
        "print(x / y)\n",
        "print(x @ y)"
      ],
      "metadata": {
        "colab": {
          "base_uri": "https://localhost:8080/"
        },
        "id": "xl0YZ2XQgKDQ",
        "outputId": "d54c1191-a7a3-462c-f249-6bc1b7944a62"
      },
      "execution_count": 57,
      "outputs": [
        {
          "output_type": "stream",
          "name": "stdout",
          "text": [
            "tf.Tensor(\n",
            "[[ 6.  8.]\n",
            " [10. 12.]], shape=(2, 2), dtype=float32)\n",
            "tf.Tensor(\n",
            "[[-4. -4.]\n",
            " [-4. -4.]], shape=(2, 2), dtype=float32)\n",
            "tf.Tensor(\n",
            "[[ 5. 12.]\n",
            " [21. 32.]], shape=(2, 2), dtype=float32)\n",
            "tf.Tensor(\n",
            "[[0.2        0.33333334]\n",
            " [0.42857143 0.5       ]], shape=(2, 2), dtype=float32)\n",
            "tf.Tensor(\n",
            "[[19. 22.]\n",
            " [43. 50.]], shape=(2, 2), dtype=float32)\n"
          ]
        }
      ]
    },
    {
      "cell_type": "code",
      "source": [
        "z = tf.range(1, 11)\n",
        "print(z)\n",
        "z = tf.reshape(z, (2, 5))\n",
        "print(z)"
      ],
      "metadata": {
        "colab": {
          "base_uri": "https://localhost:8080/"
        },
        "id": "3VgB5i8Egorb",
        "outputId": "ba6db270-68cb-476d-a4b8-d70258f6c600"
      },
      "execution_count": 58,
      "outputs": [
        {
          "output_type": "stream",
          "name": "stdout",
          "text": [
            "tf.Tensor([ 1  2  3  4  5  6  7  8  9 10], shape=(10,), dtype=int32)\n",
            "tf.Tensor(\n",
            "[[ 1  2  3  4  5]\n",
            " [ 6  7  8  9 10]], shape=(2, 5), dtype=int32)\n"
          ]
        }
      ]
    },
    {
      "cell_type": "code",
      "source": [
        "# reduce_sum(): 요소의 합계를 구함\n",
        "print(tf.reduce_sum(z))"
      ],
      "metadata": {
        "colab": {
          "base_uri": "https://localhost:8080/"
        },
        "id": "hNMr0FVzg7Bv",
        "outputId": "594f1575-a45c-423c-c41e-ca544858d42a"
      },
      "execution_count": 60,
      "outputs": [
        {
          "output_type": "stream",
          "name": "stdout",
          "text": [
            "tf.Tensor(55, shape=(), dtype=int32)\n"
          ]
        }
      ]
    },
    {
      "cell_type": "code",
      "source": [
        "sum1 = tf.reduce_sum(z, axis=0) # 행 연산\n",
        "print(sum1)"
      ],
      "metadata": {
        "colab": {
          "base_uri": "https://localhost:8080/"
        },
        "id": "B3RHEFCFhA3V",
        "outputId": "e4a31f3e-c893-4eb0-f872-0564cf4d3bd8"
      },
      "execution_count": 61,
      "outputs": [
        {
          "output_type": "stream",
          "name": "stdout",
          "text": [
            "tf.Tensor([ 7  9 11 13 15], shape=(5,), dtype=int32)\n"
          ]
        }
      ]
    },
    {
      "cell_type": "code",
      "source": [
        "sum2 = tf.reduce_sum(z, axis=1) # 열 연산\n",
        "print(sum2)"
      ],
      "metadata": {
        "colab": {
          "base_uri": "https://localhost:8080/"
        },
        "id": "sUj9jq53hW-2",
        "outputId": "04bf2927-84a5-438e-dc16-b67ac54fcac1"
      },
      "execution_count": 62,
      "outputs": [
        {
          "output_type": "stream",
          "name": "stdout",
          "text": [
            "tf.Tensor([15 40], shape=(2,), dtype=int32)\n"
          ]
        }
      ]
    },
    {
      "cell_type": "code",
      "source": [
        "sum3 = tf.reduce_sum(z, axis=-1) # 열, 항상 차원의 마지막 방향 연산\n",
        "print(sum3)"
      ],
      "metadata": {
        "colab": {
          "base_uri": "https://localhost:8080/"
        },
        "id": "ACP-D84-hdNU",
        "outputId": "cb25f9ae-50da-4926-c405-ec46ae605bc0"
      },
      "execution_count": 64,
      "outputs": [
        {
          "output_type": "stream",
          "name": "stdout",
          "text": [
            "tf.Tensor([15 40], shape=(2,), dtype=int32)\n"
          ]
        }
      ]
    },
    {
      "cell_type": "code",
      "source": [
        "concat = tf.concat([z, z], axis=0)\n",
        "print(concat)"
      ],
      "metadata": {
        "colab": {
          "base_uri": "https://localhost:8080/"
        },
        "id": "LroKH9sdhx7G",
        "outputId": "e1ccf346-36e1-4229-8cfd-7468d22375d6"
      },
      "execution_count": 65,
      "outputs": [
        {
          "output_type": "stream",
          "name": "stdout",
          "text": [
            "tf.Tensor(\n",
            "[[ 1  2  3  4  5]\n",
            " [ 6  7  8  9 10]\n",
            " [ 1  2  3  4  5]\n",
            " [ 6  7  8  9 10]], shape=(4, 5), dtype=int32)\n"
          ]
        }
      ]
    },
    {
      "cell_type": "code",
      "source": [
        "# concat() : 행과 열을 합침\n",
        "concat = tf.concat([z, z], axis=1)\n",
        "print(concat)"
      ],
      "metadata": {
        "colab": {
          "base_uri": "https://localhost:8080/"
        },
        "id": "hFtZvcf0ifXn",
        "outputId": "e3d2d386-31f7-4dab-9156-fd2a1482c09f"
      },
      "execution_count": 66,
      "outputs": [
        {
          "output_type": "stream",
          "name": "stdout",
          "text": [
            "tf.Tensor(\n",
            "[[ 1  2  3  4  5  1  2  3  4  5]\n",
            " [ 6  7  8  9 10  6  7  8  9 10]], shape=(2, 10), dtype=int32)\n"
          ]
        }
      ]
    },
    {
      "cell_type": "code",
      "source": [
        "concat = tf.concat([z, z], axis=-1)\n",
        "print(concat)"
      ],
      "metadata": {
        "colab": {
          "base_uri": "https://localhost:8080/"
        },
        "id": "xC3v8h0LinVv",
        "outputId": "378b41ee-9051-42f0-e7f5-c42b1320fb87"
      },
      "execution_count": 67,
      "outputs": [
        {
          "output_type": "stream",
          "name": "stdout",
          "text": [
            "tf.Tensor(\n",
            "[[ 1  2  3  4  5  1  2  3  4  5]\n",
            " [ 6  7  8  9 10  6  7  8  9 10]], shape=(2, 10), dtype=int32)\n"
          ]
        }
      ]
    },
    {
      "cell_type": "code",
      "source": [
        ""
      ],
      "metadata": {
        "id": "dLkaX9fiire8"
      },
      "execution_count": null,
      "outputs": []
    }
  ]
}